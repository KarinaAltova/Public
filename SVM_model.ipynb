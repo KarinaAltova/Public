{
 "cells": [
  {
   "cell_type": "code",
   "execution_count": 1,
   "id": "single-documentary",
   "metadata": {},
   "outputs": [],
   "source": [
    "from sklearn import datasets\n",
    "import matplotlib.pyplot as plt\n",
    "from sklearn.svm import SVC\n",
    "from sklearn.model_selection import train_test_split\n",
    "from sklearn.metrics import accuracy_score, f1_score\n",
    "from sklearn.model_selection import cross_val_score\n",
    "from sklearn.model_selection import KFold\n",
    "from sklearn.model_selection import GridSearchCV\n",
    "from sklearn.metrics import classification_report\n",
    "from sklearn.metrics import confusion_matrix\n",
    "import pandas as pd\n",
    "import numpy as np\n",
    "%matplotlib inline "
   ]
  },
  {
   "cell_type": "code",
   "execution_count": 2,
   "id": "special-ordinary",
   "metadata": {},
   "outputs": [],
   "source": [
    "mnist = datasets.load_digits()\n",
    "X, y = mnist.data, mnist.target"
   ]
  },
  {
   "cell_type": "code",
   "execution_count": 3,
   "id": "portable-criterion",
   "metadata": {},
   "outputs": [
    {
     "data": {
      "image/png": "[encoded data removed]",
      "text/plain": [
       "<Figure size 1296x216 with 6 Axes>"
      ]
     },
     "metadata": {
      "needs_background": "light"
     },
     "output_type": "display_data"
    }
   ],
   "source": [
    "N = 6\n",
    "\n",
    "plt.figure(figsize=(18,3));\n",
    "plt_params = dict(cmap=plt.cm.gray, interpolation='nearest', clim=(0, 16))\n",
    "for k in range(N):\n",
    "    plt.subplot(1, N, k+1);\n",
    "    plt.imshow(mnist.data[k].reshape(8,8), **plt_params);"
   ]
  },
  {
   "cell_type": "code",
   "execution_count": 15,
   "id": "handmade-hunter",
   "metadata": {},
   "outputs": [],
   "source": [
    "X_train, X_test, y_train, y_test = train_test_split(X, y, train_size=0.1)"
   ]
  },
  {
   "cell_type": "code",
   "execution_count": 4,
   "id": "threatened-entrepreneur",
   "metadata": {},
   "outputs": [
    {
     "data": {
      "text/plain": [
       "SVC()"
      ]
     },
     "execution_count": 4,
     "metadata": {},
     "output_type": "execute_result"
    }
   ],
   "source": [
    "SVM_model = SVC()\n",
    "SVM_model.fit(X, y)"
   ]
  },
  {
   "cell_type": "code",
   "execution_count": 5,
   "id": "joined-survey",
   "metadata": {},
   "outputs": [
    {
     "name": "stdout",
     "output_type": "stream",
     "text": [
      "0: accuracy mean: 0.98776;    std: 0.00797\n",
      "1: accuracy mean: 0.98720;    std: 0.00377\n",
      "2: accuracy mean: 0.98665;    std: 0.00753\n",
      "3: accuracy mean: 0.98887;    std: 0.00727\n",
      "4: accuracy mean: 0.98887;    std: 0.00556\n",
      "------\n",
      "CV accuracy mean: 0.98787;    std: 0.00089\n"
     ]
    }
   ],
   "source": [
    "cv = KFold(n_splits=5, shuffle=True)\n",
    "\n",
    "cv_score_ls = []\n",
    "for i in range(5):\n",
    "    scores = cross_val_score(SVM_model, X, y, cv=cv)\n",
    "    print(f\"{i}: accuracy mean: {np.mean(scores):.5f};    std: {np.std(scores):.5f}\")\n",
    "    cv_score_ls.append(np.mean(scores))\n",
    "print(\"------\")\n",
    "print(f\"CV accuracy mean: {np.mean(cv_score_ls):.5f};    std: {np.std(cv_score_ls):.5f}\")"
   ]
  },
  {
   "cell_type": "code",
   "execution_count": 13,
   "id": "vital-copyright",
   "metadata": {},
   "outputs": [
    {
     "name": "stdout",
     "output_type": "stream",
     "text": [
      "best_params: {'C': 3, 'degree': 1, 'gamma': 'scale', 'kernel': 'rbf'}\n",
      "best_accuracy_score: 0.98887\n"
     ]
    }
   ],
   "source": [
    "gs_values = {\n",
    "    'kernel': ['linear', 'poly', 'rbf', 'sigmoid'],\n",
    "    'degree': [1,2,3,4],\n",
    "    \"gamma\": ['scale', 'auto'],\n",
    "    'C': [1, 1.5, 0.5, 2, 3]\n",
    "}\n",
    "\n",
    "cv = KFold(n_splits=5, shuffle=True)\n",
    "\n",
    "gs_acc = GridSearchCV(SVM_model, param_grid=gs_values, cv=cv, scoring='accuracy')\n",
    "gs_acc.fit(X, y)\n",
    "\n",
    "print(f\"best_params: {gs_acc.best_params_}\")\n",
    "print(f\"best_accuracy_score: {gs_acc.best_score_:.5f}\")"
   ]
  },
  {
   "cell_type": "code",
   "execution_count": null,
   "id": "indian-amsterdam",
   "metadata": {},
   "outputs": [],
   "source": []
  },
  {
   "cell_type": "code",
   "execution_count": null,
   "id": "beautiful-minister",
   "metadata": {},
   "outputs": [],
   "source": [
    "best_params: {'C': 1.5, 'degree': 1, 'gamma': 'scale', 'kernel': 'rbf'}\n",
    "best_accuracy_score: 0.98999"
   ]
  },
  {
   "cell_type": "code",
   "execution_count": null,
   "id": "alternative-channels",
   "metadata": {},
   "outputs": [],
   "source": [
    "best_params: {'degree': 3, 'gamma': 'scale', 'kernel': 'poly'}\n",
    "best_accuracy_score: 0.98776"
   ]
  },
  {
   "cell_type": "code",
   "execution_count": 14,
   "id": "distributed-teacher",
   "metadata": {},
   "outputs": [
    {
     "name": "stdout",
     "output_type": "stream",
     "text": [
      "0: accuracy mean: 0.98999;    std: 0.00573\n",
      "1: accuracy mean: 0.98999;    std: 0.00648\n",
      "2: accuracy mean: 0.98887;    std: 0.00826\n",
      "3: accuracy mean: 0.98832;    std: 0.00444\n",
      "4: accuracy mean: 0.98998;    std: 0.00284\n",
      "------\n",
      "CV accuracy mean: 0.98943;    std: 0.00070\n"
     ]
    }
   ],
   "source": [
    "SVM_model = SVC(C= 1.5, degree= 1, gamma= 'scale', kernel= 'rbf')\n",
    "SVM_model.fit(X, y)\n",
    "\n",
    "cv = KFold(n_splits=5, shuffle=True)\n",
    "\n",
    "cv_score_ls = []\n",
    "for i in range(5):\n",
    "    scores = cross_val_score(SVM_model, X, y, cv=cv)\n",
    "    print(f\"{i}: accuracy mean: {np.mean(scores):.5f};    std: {np.std(scores):.5f}\")\n",
    "    cv_score_ls.append(np.mean(scores))\n",
    "print(\"------\")\n",
    "print(f\"CV accuracy mean: {np.mean(cv_score_ls):.5f};    std: {np.std(cv_score_ls):.5f}\")"
   ]
  },
  {
   "cell_type": "code",
   "execution_count": 16,
   "id": "careful-continuity",
   "metadata": {},
   "outputs": [
    {
     "data": {
      "text/plain": [
       "SVC(C=1.5, degree=1)"
      ]
     },
     "execution_count": 16,
     "metadata": {},
     "output_type": "execute_result"
    }
   ],
   "source": [
    "SVM_model = SVC(C= 1.5, degree= 1, gamma= 'scale', kernel= 'rbf')\n",
    "SVM_model.fit(X_train, y_train)"
   ]
  },
  {
   "cell_type": "code",
   "execution_count": 18,
   "id": "lovely-surgery",
   "metadata": {},
   "outputs": [],
   "source": [
    "y_pred = SVM_model.predict(X_test)"
   ]
  },
  {
   "cell_type": "code",
   "execution_count": 19,
   "id": "sought-pepper",
   "metadata": {},
   "outputs": [
    {
     "name": "stdout",
     "output_type": "stream",
     "text": [
      "              precision    recall  f1-score   support\n",
      "\n",
      "           0       1.00      0.99      1.00       163\n",
      "           1       0.90      0.96      0.93       164\n",
      "           2       0.99      0.99      0.99       163\n",
      "           3       1.00      0.93      0.96       169\n",
      "           4       0.99      0.96      0.97       165\n",
      "           5       0.96      0.96      0.96       167\n",
      "           6       0.99      0.99      0.99       158\n",
      "           7       0.93      0.99      0.96       154\n",
      "           8       0.95      0.94      0.94       154\n",
      "           9       0.90      0.89      0.90       161\n",
      "\n",
      "    accuracy                           0.96      1618\n",
      "   macro avg       0.96      0.96      0.96      1618\n",
      "weighted avg       0.96      0.96      0.96      1618\n",
      "\n"
     ]
    }
   ],
   "source": [
    "print(classification_report(y_test, y_pred))"
   ]
  },
  {
   "cell_type": "code",
   "execution_count": 20,
   "id": "czech-manner",
   "metadata": {},
   "outputs": [
    {
     "data": {
      "text/plain": [
       "0.9610630407911002"
      ]
     },
     "execution_count": 20,
     "metadata": {},
     "output_type": "execute_result"
    }
   ],
   "source": [
    "accuracy_score(y_test, y_pred)"
   ]
  },
  {
   "cell_type": "code",
   "execution_count": 21,
   "id": "beneficial-conjunction",
   "metadata": {},
   "outputs": [
    {
     "data": {
      "text/plain": [
       "array([[162,   0,   0,   0,   1,   0,   0,   0,   0,   0],\n",
       "       [  0, 157,   1,   0,   0,   1,   1,   0,   4,   0],\n",
       "       [  0,   0, 162,   0,   0,   0,   0,   1,   0,   0],\n",
       "       [  0,   0,   0, 157,   0,   1,   0,   2,   4,   5],\n",
       "       [  0,   0,   0,   0, 158,   0,   0,   3,   0,   4],\n",
       "       [  0,   0,   0,   0,   0, 161,   0,   0,   0,   6],\n",
       "       [  0,   1,   0,   0,   0,   1, 156,   0,   0,   0],\n",
       "       [  0,   0,   0,   0,   0,   0,   0, 153,   0,   1],\n",
       "       [  0,   4,   0,   0,   1,   3,   0,   1, 145,   0],\n",
       "       [  0,  13,   0,   0,   0,   0,   0,   4,   0, 144]], dtype=int64)"
      ]
     },
     "execution_count": 21,
     "metadata": {},
     "output_type": "execute_result"
    }
   ],
   "source": [
    "confusion_matrix(y_test, y_pred)"
   ]
  },
  {
   "cell_type": "code",
   "execution_count": null,
   "id": "numeric-scholarship",
   "metadata": {},
   "outputs": [],
   "source": []
  },
  {
   "cell_type": "markdown",
   "id": "weird-receiver",
   "metadata": {},
   "source": [
    "## Breast Cancer"
   ]
  },
  {
   "cell_type": "code",
   "execution_count": 2,
   "id": "alpha-rebel",
   "metadata": {},
   "outputs": [],
   "source": [
    "from sklearn.datasets import load_breast_cancer\n",
    "from sklearn.preprocessing import LabelEncoder"
   ]
  },
  {
   "cell_type": "code",
   "execution_count": 3,
   "id": "entitled-principal",
   "metadata": {},
   "outputs": [],
   "source": [
    "breast_cancer = load_breast_cancer()"
   ]
  },
  {
   "cell_type": "code",
   "execution_count": 4,
   "id": "differential-elements",
   "metadata": {},
   "outputs": [],
   "source": [
    "X = pd.DataFrame(breast_cancer.data, columns=breast_cancer.feature_names)\n",
    "y = pd.Categorical.from_codes(breast_cancer.target, breast_cancer.target_names)\n",
    "\n",
    "encoder = LabelEncoder()\n",
    "binary_encoded_y = pd.Series(encoder.fit_transform(y))\n",
    "\n",
    "X_train, X_test, y_train, y_test = train_test_split(X, binary_encoded_y, random_state=1)"
   ]
  },
  {
   "cell_type": "code",
   "execution_count": 5,
   "id": "about-current",
   "metadata": {},
   "outputs": [
    {
     "name": "stdout",
     "output_type": "stream",
     "text": [
      "0: accuracy mean: 0.91744;    std: 0.01171\n",
      "1: accuracy mean: 0.91220;    std: 0.03835\n",
      "2: accuracy mean: 0.91391;    std: 0.03002\n",
      "3: accuracy mean: 0.91037;    std: 0.02740\n",
      "4: accuracy mean: 0.91911;    std: 0.03315\n",
      "------\n",
      "CV accuracy mean: 0.91461;    std: 0.00324\n"
     ]
    }
   ],
   "source": [
    "SVM_model = SVC()\n",
    "SVM_model.fit(X, y)\n",
    "\n",
    "cv = KFold(n_splits=5, shuffle=True)\n",
    "\n",
    "cv_score_ls = []\n",
    "for i in range(5):\n",
    "    scores = cross_val_score(SVM_model, X, y, cv=cv)\n",
    "    print(f\"{i}: accuracy mean: {np.mean(scores):.5f};    std: {np.std(scores):.5f}\")\n",
    "    cv_score_ls.append(np.mean(scores))\n",
    "print(\"------\")\n",
    "print(f\"CV accuracy mean: {np.mean(cv_score_ls):.5f};    std: {np.std(cv_score_ls):.5f}\")"
   ]
  },
  {
   "cell_type": "code",
   "execution_count": 7,
   "id": "featured-murder",
   "metadata": {},
   "outputs": [
    {
     "name": "stdout",
     "output_type": "stream",
     "text": [
      "best_params: {'C': 1.5, 'degree': 1, 'kernel': 'linear'}\n",
      "best_accuracy_score: 0.96133\n"
     ]
    }
   ],
   "source": [
    "gs_values = {\n",
    "    'kernel': ['linear', 'poly', 'rbf', 'sigmoid'],\n",
    "    'degree': [1,2,3,4],\n",
    "    'C': [1, 1.5, 0.5, 2, 3]\n",
    "}\n",
    "\n",
    "cv = KFold(n_splits=5, shuffle=True)\n",
    "\n",
    "gs_acc = GridSearchCV(SVM_model, param_grid=gs_values, cv=cv, scoring='accuracy')\n",
    "gs_acc.fit(X, y)\n",
    "\n",
    "print(f\"best_params: {gs_acc.best_params_}\")\n",
    "print(f\"best_accuracy_score: {gs_acc.best_score_:.5f}\")"
   ]
  },
  {
   "cell_type": "code",
   "execution_count": 8,
   "id": "rental-geography",
   "metadata": {},
   "outputs": [
    {
     "name": "stdout",
     "output_type": "stream",
     "text": [
      "0: accuracy mean: 0.96136;    std: 0.02516\n",
      "1: accuracy mean: 0.95609;    std: 0.01234\n",
      "2: accuracy mean: 0.95782;    std: 0.01165\n",
      "3: accuracy mean: 0.95602;    std: 0.01939\n",
      "4: accuracy mean: 0.96126;    std: 0.02540\n",
      "------\n",
      "CV accuracy mean: 0.95851;    std: 0.00238\n"
     ]
    }
   ],
   "source": [
    "SVM_model = SVC(C= 1.5, degree= 1, kernel= 'linear')\n",
    "SVM_model.fit(X, y)\n",
    "\n",
    "cv = KFold(n_splits=5, shuffle=True)\n",
    "\n",
    "cv_score_ls = []\n",
    "for i in range(5):\n",
    "    scores = cross_val_score(SVM_model, X, y, cv=cv)\n",
    "    print(f\"{i}: accuracy mean: {np.mean(scores):.5f};    std: {np.std(scores):.5f}\")\n",
    "    cv_score_ls.append(np.mean(scores))\n",
    "print(\"------\")\n",
    "print(f\"CV accuracy mean: {np.mean(cv_score_ls):.5f};    std: {np.std(cv_score_ls):.5f}\")"
   ]
  },
  {
   "cell_type": "code",
   "execution_count": 6,
   "id": "extra-visibility",
   "metadata": {},
   "outputs": [
    {
     "name": "stdout",
     "output_type": "stream",
     "text": [
      "Wall time: 1.43 s\n"
     ]
    }
   ],
   "source": [
    "%%time\n",
    "SVM_model = SVC(C= 1.5, degree= 1, kernel= 'linear')\n",
    "SVM_model.fit(X_train, y_train)\n",
    "y_pred = SVM_model.predict(X_test)"
   ]
  },
  {
   "cell_type": "code",
   "execution_count": 10,
   "id": "adjacent-waterproof",
   "metadata": {},
   "outputs": [],
   "source": [
    "y_pred = SVM_model.predict(X_test)"
   ]
  },
  {
   "cell_type": "code",
   "execution_count": 7,
   "id": "native-brave",
   "metadata": {},
   "outputs": [
    {
     "name": "stdout",
     "output_type": "stream",
     "text": [
      "              precision    recall  f1-score   support\n",
      "\n",
      "           0       0.94      0.95      0.95        88\n",
      "           1       0.93      0.91      0.92        55\n",
      "\n",
      "    accuracy                           0.94       143\n",
      "   macro avg       0.93      0.93      0.93       143\n",
      "weighted avg       0.94      0.94      0.94       143\n",
      "\n"
     ]
    }
   ],
   "source": [
    "print(classification_report(y_test, y_pred))"
   ]
  },
  {
   "cell_type": "code",
   "execution_count": 8,
   "id": "naked-melbourne",
   "metadata": {},
   "outputs": [
    {
     "data": {
      "text/plain": [
       "0.9370629370629371"
      ]
     },
     "execution_count": 8,
     "metadata": {},
     "output_type": "execute_result"
    }
   ],
   "source": [
    "accuracy_score(y_test, y_pred)"
   ]
  },
  {
   "cell_type": "code",
   "execution_count": 9,
   "id": "threatened-greeting",
   "metadata": {},
   "outputs": [
    {
     "data": {
      "text/plain": [
       "array([[84,  4],\n",
       "       [ 5, 50]], dtype=int64)"
      ]
     },
     "execution_count": 9,
     "metadata": {},
     "output_type": "execute_result"
    }
   ],
   "source": [
    "confusion_matrix(y_test, y_pred)"
   ]
  },
  {
   "cell_type": "code",
   "execution_count": null,
   "id": "resident-serve",
   "metadata": {},
   "outputs": [],
   "source": []
  }
 ],
 "metadata": {
  "kernelspec": {
   "display_name": "Python 3",
   "language": "python",
   "name": "python3"
  },
  "language_info": {
   "codemirror_mode": {
    "name": "ipython",
    "version": 3
   },
   "file_extension": ".py",
   "mimetype": "text/x-python",
   "name": "python",
   "nbconvert_exporter": "python",
   "pygments_lexer": "ipython3",
   "version": "3.6.12"
  }
 },
 "nbformat": 4,
 "nbformat_minor": 5
}
